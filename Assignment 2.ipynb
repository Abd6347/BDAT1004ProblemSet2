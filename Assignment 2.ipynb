{
 "cells": [
  {
   "cell_type": "markdown",
   "id": "5350877e",
   "metadata": {},
   "source": [
    "Q1"
   ]
  },
  {
   "cell_type": "code",
   "execution_count": 1,
   "id": "480111fa",
   "metadata": {},
   "outputs": [],
   "source": [
    "a = 0\n",
    "\n",
    "def b():\n",
    "    global a\n",
    "    a = c(a)\n",
    "    \n",
    "def c(a):\n",
    "    return a + 2"
   ]
  },
  {
   "cell_type": "code",
   "execution_count": 2,
   "id": "8d8493f0",
   "metadata": {},
   "outputs": [],
   "source": [
    "b()"
   ]
  },
  {
   "cell_type": "code",
   "execution_count": 3,
   "id": "36e8f9b0",
   "metadata": {},
   "outputs": [],
   "source": [
    "b()"
   ]
  },
  {
   "cell_type": "code",
   "execution_count": 4,
   "id": "61fcd989",
   "metadata": {},
   "outputs": [],
   "source": [
    "b()"
   ]
  },
  {
   "cell_type": "code",
   "execution_count": 5,
   "id": "e84d7188",
   "metadata": {},
   "outputs": [
    {
     "data": {
      "text/plain": [
       "6"
      ]
     },
     "execution_count": 5,
     "metadata": {},
     "output_type": "execute_result"
    }
   ],
   "source": [
    "a"
   ]
  },
  {
   "cell_type": "markdown",
   "id": "ee1d7617",
   "metadata": {},
   "source": [
    "Q1: First, the value of a is set to 0.Setting a variable global will make the value of the variable stand outside the method as well.\n",
    "    When method b is called it calls a method c which adds 2 to the value of a. Hence, calling b thrice makes\n",
    "    the value 6.\n",
    "   "
   ]
  },
  {
   "cell_type": "markdown",
   "id": "b0b5fc79",
   "metadata": {},
   "source": [
    "Q2"
   ]
  },
  {
   "cell_type": "code",
   "execution_count": 6,
   "id": "903ae6ed",
   "metadata": {},
   "outputs": [],
   "source": [
    "def fileLength(file):\n",
    "    try:\n",
    "        \n",
    "        readFile = open(file, \"r\")\n",
    "        line = readFile.readlines()\n",
    "        print(len(line))\n",
    "        \n",
    "    except (FileNotFoundError, IOError):\n",
    "        \n",
    "        print(\"Wrong file or file path\")\n",
    "        \n",
    "        \n",
    "            "
   ]
  },
  {
   "cell_type": "markdown",
   "id": "5361fcdf",
   "metadata": {},
   "source": [
    "Q3"
   ]
  },
  {
   "cell_type": "markdown",
   "id": "2ac624fa",
   "metadata": {},
   "source": [
    "Q4"
   ]
  },
  {
   "cell_type": "code",
   "execution_count": 14,
   "id": "8e4471b6",
   "metadata": {},
   "outputs": [
    {
     "name": "stdout",
     "output_type": "stream",
     "text": [
      "Number:10\n",
      "10\n",
      "5.0\n",
      "16.0\n",
      "8.0\n",
      "4.0\n",
      "2.0\n",
      "1.0\n"
     ]
    }
   ],
   "source": [
    "x = int(input(\"Number:\"))\n",
    "\n",
    "print(x)\n",
    "\n",
    "while True:\n",
    "    if x == 1:\n",
    "        break\n",
    "        \n",
    "    if x > 0 and (x % 2 == 0):\n",
    "        x = x/2\n",
    "        print(x)\n",
    "            \n",
    "    elif x > 0 and (x % 2 != 0):\n",
    "        x = (3 * x) + 1\n",
    "        print(x)\n",
    "        \n",
    "        "
   ]
  },
  {
   "cell_type": "markdown",
   "id": "d6ff012f",
   "metadata": {},
   "source": [
    "Q5"
   ]
  },
  {
   "cell_type": "code",
   "execution_count": 19,
   "id": "f6d582aa",
   "metadata": {},
   "outputs": [
    {
     "name": "stdout",
     "output_type": "stream",
     "text": [
      "Enter a non-negative integer for binary representation: 11\n",
      "1011\n"
     ]
    }
   ],
   "source": [
    "number = int(input(\"Enter a non-negative integer for binary representation: \"))\n",
    "binary(number)  \n",
    "\n",
    "def binary(n):\n",
    "    if(a < 0):\n",
    "        print(\"Please enter an integer greater than 0\")\n",
    "    else:\n",
    "        print(format(n,\"b\"))\n",
    "     "
   ]
  },
  {
   "cell_type": "markdown",
   "id": "3dd2614c",
   "metadata": {},
   "source": [
    "Q6"
   ]
  },
  {
   "cell_type": "markdown",
   "id": "8d205185",
   "metadata": {},
   "source": [
    "Q7"
   ]
  },
  {
   "cell_type": "markdown",
   "id": "651a0591",
   "metadata": {},
   "source": [
    "Q8"
   ]
  },
  {
   "cell_type": "code",
   "execution_count": null,
   "id": "2beec171",
   "metadata": {},
   "outputs": [],
   "source": [
    "#a\n",
    "SELECT Temperature(C) FROM weather\n",
    "\n",
    "#b\n",
    "SELECT DISTINCT City FROM weather\n",
    "\n",
    "#c\n",
    "SELECT * FROM weather\n",
    "WHERE Country='India';\n",
    "\n",
    "#d\n",
    "SELECT * FROM weather\n",
    "WHERE Season='Fall';\n",
    "\n",
    "#e\n",
    "SELECT City, Country, Season FROM weather\n",
    "WHERE Rainfall(mm)>200 AND Rainfall(mm)<400;\n",
    "\n",
    "#f\n",
    "SELECT City, Country FROM weather\n",
    "WHERE Season='Fall' AND Temerature(C)>20;\n",
    "ORDER BY Temperature(C) ASC;\n",
    "\n",
    "#g\n",
    "SELECT SUM(Rainfall(mm))\n",
    "FROM weather\n",
    "WHERE City='Cairo';\n",
    "\n",
    "#h\n",
    "SELECT Season, SUM(Rainfall(mm))\n",
    "FROM weather\n",
    "GROUP BY Season;\n",
    "\n"
   ]
  },
  {
   "cell_type": "markdown",
   "id": "504ab667",
   "metadata": {},
   "source": [
    "Q9"
   ]
  },
  {
   "cell_type": "code",
   "execution_count": 20,
   "id": "4342a6ff",
   "metadata": {},
   "outputs": [
    {
     "name": "stdout",
     "output_type": "stream",
     "text": [
      "['THE', 'QUICK', 'BROWN', 'FOX', 'JUMPS', 'OVER', 'THE', 'LAZY', 'DOG']\n",
      "['the', 'quick', 'brown', 'fox', 'jumps', 'over', 'the', 'lazy', 'dog']\n",
      "[3, 5, 5, 3, 5, 4, 3, 4, 3]\n",
      "[['THE', 'the', 3], ['QUICK', 'quick', 5], ['BROWN', 'brown', 5], ['FOX', 'fox', 3], ['JUMPS', 'jumps', 5], ['OVER', 'over', 4], ['THE', 'the', 3], ['LAZY', 'lazy', 4], ['DOG', 'dog', 3]]\n",
      "['quick', 'brown', 'jumps', 'over', 'lazy']\n"
     ]
    }
   ],
   "source": [
    "words = [\"The\", \"quick\", \"brown\", \"fox\", \"jumps\", \"over\", \"the\", \"lazy\", \"dog\"]\n",
    "\n",
    "#a\n",
    "a = [i.upper() for i in words] \n",
    "print(a)\n",
    "\n",
    "#b\n",
    "b = [i.lower() for i in words]\n",
    "print(b)\n",
    "\n",
    "#c\n",
    "c = [len(i) for i in words]\n",
    "print(c)\n",
    "\n",
    "#d\n",
    "d = [[i.upper(), i.lower(), len(i)] for i in words]\n",
    "print(d)\n",
    "\n",
    "#e\n",
    "e = [i for i in words if len(i) >=4]\n",
    "print(e)"
   ]
  },
  {
   "cell_type": "code",
   "execution_count": null,
   "id": "0e1e5f21",
   "metadata": {},
   "outputs": [],
   "source": []
  }
 ],
 "metadata": {
  "kernelspec": {
   "display_name": "Python 3 (ipykernel)",
   "language": "python",
   "name": "python3"
  },
  "language_info": {
   "codemirror_mode": {
    "name": "ipython",
    "version": 3
   },
   "file_extension": ".py",
   "mimetype": "text/x-python",
   "name": "python",
   "nbconvert_exporter": "python",
   "pygments_lexer": "ipython3",
   "version": "3.9.12"
  }
 },
 "nbformat": 4,
 "nbformat_minor": 5
}
